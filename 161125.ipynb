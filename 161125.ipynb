{
  "cells": [
    {
      "cell_type": "markdown",
      "metadata": {
        "id": "mZmdRpO4ySoL"
      },
      "source": [
        "# 전남A2/졸지아\n",
        "**프로젝트 개요:** bard api를 이용한 뉴스 긍정 분석 기반 주식 자동 매수, 매도 프로그램\\\n",
        "\\\n",
        "**목적:** 신속한 최신 정보 취득이 어려운 투자자들을 돕기 위함이다.\\\n",
        "\\\n",
        "**기술 활용 방식:** 코드와 설명서를 배포하거나 서비스 자체를 웹을 만든다.\\\n",
        "\\\n",
        "**결과:** 원하는 종목이 실시간 상황에 따라 자동으로 매수, 매도된다.\\\n",
        "\\\n",
        "**기술 기대효과:** 빠른 정보 획득이 어려운 투자자들이 수익을 얻을 수 있다.\\\n",
        "\\\n",
        "**팀원 역할:**\n",
        "\n",
        "**이서율:** bard api 이용 및 코드 합쳐서 연결하기\\\n",
        "**정인강:** 뉴스 크롤링 방식 연구, 텍스트 분석\\\n",
        "**박도현:** 한국투자증권 api를 이용해 자동 매수, 매도 프로그램 제작"
      ]
    },
    {
      "cell_type": "markdown",
      "source": [
        "___\n",
        "\n"
      ],
      "metadata": {
        "id": "MMqns7OPxPsA"
      }
    },
    {
      "cell_type": "markdown",
      "source": [
        "# module, key값들"
      ],
      "metadata": {
        "id": "sn81fsTRwwk6"
      }
    },
    {
      "cell_type": "code",
      "execution_count": 34,
      "metadata": {
        "id": "leTBm_OZkBkY"
      },
      "outputs": [],
      "source": [
        "!pip install bardapi\n",
        "!pip install mojito2\n",
        "\n",
        "from bardapi import Bard\n",
        "import mojito\n",
        "import pprint\n",
        "import time\n",
        "from time import sleep\n",
        "\n",
        "token ='cAh07OSiW0A-ZYmNCBYvjGWbkrkBHWDiubGfFUsQIgQZe9g_qpvtVntDelTPNbj39-BYaA.'\n",
        "\n",
        "key = \"PSIQ599g3fqtNUhwzRRJwH1oJGWSTpftdYVM\"\n",
        "secret = \"RZkYtlntKFzVRN7678QBwZCk01Img7WgaTP1cNOciyGxAbBDj7z/5y4+v9jZoHrLmkO/bMWCB7+lIwTj5gfgIQlmb5jRsXWIEJvSuDDUaBsiT/PLRLxm6vxGVG58rxij21wLu5I6LkvwW+XhzLCvvbCdNcbHuxdwMRbMTosaI963J7imvaI=\"\n",
        "ACC_NO = \"50096816-01\"\n",
        "\n",
        "broker = mojito.KoreaInvestment(api_key=key, api_secret=secret, acc_no=ACC_NO, mock=True)\n",
        "resp2 = broker.fetch_balance()"
      ]
    },
    {
      "cell_type": "markdown",
      "source": [
        "___________"
      ],
      "metadata": {
        "id": "jISg5eLm0C6J"
      }
    },
    {
      "cell_type": "markdown",
      "source": [
        "# 잔고 조회"
      ],
      "metadata": {
        "id": "Un0cpEFCxDDI"
      }
    },
    {
      "cell_type": "code",
      "source": [
        "tot_evlu_amt = int(resp2['output2'][0]['tot_evlu_amt']) #nass_amt 순자산 금액, tot_evlu_amt 총평가 금액\n",
        "nass_amt = int(resp2['output2'][0]['nass_amt'])\n",
        "print('___________________')\n",
        "print('총평가금액: %d원' %tot_evlu_amt)\n",
        "print('순자산금액: %d원' %nass_amt)"
      ],
      "metadata": {
        "colab": {
          "base_uri": "https://localhost:8080/"
        },
        "id": "1fnvo7FDp9KX",
        "outputId": "ab907200-4de8-4e66-c158-ea37e9ae7c9c"
      },
      "execution_count": 41,
      "outputs": [
        {
          "output_type": "stream",
          "name": "stdout",
          "text": [
            "___________________\n",
            "총평가금액: 10007927원\n",
            "순자산금액: 10007927원\n"
          ]
        }
      ]
    },
    {
      "cell_type": "markdown",
      "source": [
        "___________"
      ],
      "metadata": {
        "id": "v2OQNtE90FL8"
      }
    },
    {
      "cell_type": "markdown",
      "source": [
        "# 국내 주식"
      ],
      "metadata": {
        "id": "dmnXbEDCxrcR"
      }
    },
    {
      "cell_type": "code",
      "execution_count": null,
      "metadata": {
        "id": "hE44zcpF9mKW"
      },
      "outputs": [],
      "source": [
        "broker = mojito.KoreaInvestment(api_key=key, api_secret=secret, acc_no=ACC_NO, mock=True)\n",
        "prev_inza=None\n",
        "\n",
        "while True:\n",
        "    #답변 실시간성 확인 성공!\n",
        "    banswer=Bard(token=token).get_answer(\"이스라엘-하마스에 대한 가장 최신 뉴스 1개를 근거로 전쟁이 장기화될 것 같으면 '장,장,장' 이라고 말해줘, 전쟁이 금방 끝날 것 같으면 '끝,끝,끝' 이라고 말해줘\")['content']\n",
        "\n",
        "    #텍스트 개수 파악\n",
        "    buy_count = banswer.count('장')\n",
        "    sell_count = banswer.count('끝')\n",
        "\n",
        "    #비교\n",
        "    if buy_count > sell_count:\n",
        "        inza = 1\n",
        "    else:\n",
        "        inza = 0\n",
        "\n",
        "    print(banswer)\n",
        "    print('_______________________\\n인자 값:%d\\n' %inza)\n",
        "\n",
        "    if inza == prev_inza:\n",
        "        print(\"현상유지\\n\")\n",
        "\n",
        "    else:\n",
        "      if inza == 1:\n",
        "        print(\"매수하겠습니다.\\n\")\n",
        "        resp = broker.create_market_buy_order(symbol=\"024060\", quantity=10)\n",
        "      elif inza == 0:\n",
        "        print(\"매도하겠습니다.\\n\")\n",
        "        resp = broker.create_market_sell_order(symbol=\"024060\", quantity=10)\n",
        "\n",
        "      pprint.pprint(resp)\n",
        "\n",
        "      prev_inza = inza\n",
        "\n",
        "\n",
        "    print(\"\\n이 코드는 5분마다 반복됩니다.\\n_______________________\")\n",
        "\n",
        "    time.sleep(300)"
      ]
    },
    {
      "cell_type": "markdown",
      "source": [
        "_________"
      ],
      "metadata": {
        "id": "Gsr8DqJm0HLk"
      }
    },
    {
      "cell_type": "markdown",
      "source": [
        "# 미국 주식"
      ],
      "metadata": {
        "id": "BBL2sDshyDic"
      }
    },
    {
      "cell_type": "code",
      "execution_count": null,
      "metadata": {
        "id": "BjGyEHoc3nEm",
        "cellView": "code"
      },
      "outputs": [],
      "source": [
        "broker = mojito.KoreaInvestment(api_key=key, api_secret=secret, acc_no=ACC_NO, exchange='나스닥',mock=True)\n",
        "prev_inza=None\n",
        "\n",
        "while True:\n",
        "    #답변 실시간성 확인 성공!\n",
        "    banswer=Bard(token=token).get_answer(\"이스라엘-하마스에 대한 가장 최신 뉴스 1개를 근거로 전쟁이 장기화될 것 같으면 '장,장,장' 이라고 말해줘, 전쟁이 금방 끝날 것 같으면 '끝,끝,끝' 이라고 말해줘\")['content']\n",
        "\n",
        "    #텍스트 개수 파악\n",
        "    buy_count = banswer.count('장')\n",
        "    sell_count = banswer.count('끝')\n",
        "\n",
        "    #비교\n",
        "    if buy_count > sell_count:\n",
        "        inza = 1\n",
        "    else:\n",
        "        inza = 0\n",
        "\n",
        "    print(banswer)\n",
        "    print('\\n______________________\\n인자 값:%d\\n' %inza)\n",
        "\n",
        "    if inza == prev_inza:\n",
        "        print(\"현상유지\\n\")\n",
        "\n",
        "    else:\n",
        "      if inza == 1:\n",
        "        print(\"매수하겠습니다.\\n\")\n",
        "        pricek = float(broker.fetch_price(\"AAPL\")['output']['last'])\n",
        "        resp = broker.create_limit_buy_order(symbol=\"AAPL\", price=pricek,quantity=1)\n",
        "\n",
        "      elif inza == 0:\n",
        "        print(\"매도하겠습니다.\\n\")\n",
        "        pricek = float(broker.fetch_price(\"AAPL\")['output']['last'])\n",
        "        resp = broker.create_limit_sell_order(symbol=\"AAPL\", price=pricek,quantity=1)\n",
        "\n",
        "      pprint.pprint(resp)\n",
        "      prev_inza=inza\n",
        "\n",
        "    print(\"\\n이 코드는 5분마다 반복됩니다.\\n_______________________\")\n",
        "\n",
        "    time.sleep(300)"
      ]
    },
    {
      "cell_type": "code",
      "source": [],
      "metadata": {
        "id": "4omH4Rb03b_7"
      },
      "execution_count": null,
      "outputs": []
    }
  ],
  "metadata": {
    "colab": {
      "provenance": []
    },
    "kernelspec": {
      "display_name": "Python 3",
      "name": "python3"
    },
    "language_info": {
      "name": "python"
    }
  },
  "nbformat": 4,
  "nbformat_minor": 0
}